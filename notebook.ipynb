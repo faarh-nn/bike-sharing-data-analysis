{
  "cells": [
    {
      "cell_type": "markdown",
      "metadata": {
        "id": "H9wADwK78DCz"
      },
      "source": [
        "# Proyek Analisis Data: Bike Sharing Dataset\n",
        "- **Nama:** Muh Farhan\n",
        "- **Email:** farhan082002@gmail.com\n",
        "- **ID Dicoding:** faarh-nn"
      ]
    },
    {
      "cell_type": "markdown",
      "metadata": {
        "id": "eE0raob58DC0"
      },
      "source": [
        "## Menentukan Pertanyaan Bisnis"
      ]
    },
    {
      "cell_type": "markdown",
      "metadata": {
        "id": "GmQeQ5YF8DC0"
      },
      "source": [
        "- Bagaimana pola penggunaan sepeda berdasarkan hari kerja dan akhir pekan?\n",
        "- Bagaimana cuaca dan musim memengaruhi jumlah penyewaan sepeda?\n",
        "- Pada jam berapa permintaan sepeda paling tinggi dan paling rendah?"
      ]
    },
    {
      "cell_type": "markdown",
      "metadata": {
        "id": "H-z4QGlO8DC1"
      },
      "source": [
        "## Import Semua Packages/Library yang Digunakan"
      ]
    },
    {
      "cell_type": "code",
      "execution_count": 31,
      "metadata": {
        "id": "FVYwaObI8DC1"
      },
      "outputs": [],
      "source": [
        "import pandas as pd\n",
        "import matplotlib.pyplot as plt\n",
        "import seaborn as sns"
      ]
    },
    {
      "cell_type": "markdown",
      "metadata": {
        "id": "h_Sh51Xy8DC1"
      },
      "source": [
        "## Data Wrangling"
      ]
    },
    {
      "cell_type": "markdown",
      "metadata": {
        "id": "sXU2GBYu8DC1"
      },
      "source": [
        "### Gathering Data"
      ]
    },
    {
      "cell_type": "markdown",
      "metadata": {},
      "source": [
        "Memuat dataset harian (day)"
      ]
    },
    {
      "cell_type": "code",
      "execution_count": 3,
      "metadata": {
        "id": "zjCBk1BI8DC1"
      },
      "outputs": [
        {
          "data": {
            "text/html": [
              "<div>\n",
              "<style scoped>\n",
              "    .dataframe tbody tr th:only-of-type {\n",
              "        vertical-align: middle;\n",
              "    }\n",
              "\n",
              "    .dataframe tbody tr th {\n",
              "        vertical-align: top;\n",
              "    }\n",
              "\n",
              "    .dataframe thead th {\n",
              "        text-align: right;\n",
              "    }\n",
              "</style>\n",
              "<table border=\"1\" class=\"dataframe\">\n",
              "  <thead>\n",
              "    <tr style=\"text-align: right;\">\n",
              "      <th></th>\n",
              "      <th>instant</th>\n",
              "      <th>dteday</th>\n",
              "      <th>season</th>\n",
              "      <th>yr</th>\n",
              "      <th>mnth</th>\n",
              "      <th>holiday</th>\n",
              "      <th>weekday</th>\n",
              "      <th>workingday</th>\n",
              "      <th>weathersit</th>\n",
              "      <th>temp</th>\n",
              "      <th>atemp</th>\n",
              "      <th>hum</th>\n",
              "      <th>windspeed</th>\n",
              "      <th>casual</th>\n",
              "      <th>registered</th>\n",
              "      <th>cnt</th>\n",
              "    </tr>\n",
              "  </thead>\n",
              "  <tbody>\n",
              "    <tr>\n",
              "      <th>0</th>\n",
              "      <td>1</td>\n",
              "      <td>2011-01-01</td>\n",
              "      <td>1</td>\n",
              "      <td>0</td>\n",
              "      <td>1</td>\n",
              "      <td>0</td>\n",
              "      <td>6</td>\n",
              "      <td>0</td>\n",
              "      <td>2</td>\n",
              "      <td>0.344167</td>\n",
              "      <td>0.363625</td>\n",
              "      <td>0.805833</td>\n",
              "      <td>0.160446</td>\n",
              "      <td>331</td>\n",
              "      <td>654</td>\n",
              "      <td>985</td>\n",
              "    </tr>\n",
              "    <tr>\n",
              "      <th>1</th>\n",
              "      <td>2</td>\n",
              "      <td>2011-01-02</td>\n",
              "      <td>1</td>\n",
              "      <td>0</td>\n",
              "      <td>1</td>\n",
              "      <td>0</td>\n",
              "      <td>0</td>\n",
              "      <td>0</td>\n",
              "      <td>2</td>\n",
              "      <td>0.363478</td>\n",
              "      <td>0.353739</td>\n",
              "      <td>0.696087</td>\n",
              "      <td>0.248539</td>\n",
              "      <td>131</td>\n",
              "      <td>670</td>\n",
              "      <td>801</td>\n",
              "    </tr>\n",
              "    <tr>\n",
              "      <th>2</th>\n",
              "      <td>3</td>\n",
              "      <td>2011-01-03</td>\n",
              "      <td>1</td>\n",
              "      <td>0</td>\n",
              "      <td>1</td>\n",
              "      <td>0</td>\n",
              "      <td>1</td>\n",
              "      <td>1</td>\n",
              "      <td>1</td>\n",
              "      <td>0.196364</td>\n",
              "      <td>0.189405</td>\n",
              "      <td>0.437273</td>\n",
              "      <td>0.248309</td>\n",
              "      <td>120</td>\n",
              "      <td>1229</td>\n",
              "      <td>1349</td>\n",
              "    </tr>\n",
              "    <tr>\n",
              "      <th>3</th>\n",
              "      <td>4</td>\n",
              "      <td>2011-01-04</td>\n",
              "      <td>1</td>\n",
              "      <td>0</td>\n",
              "      <td>1</td>\n",
              "      <td>0</td>\n",
              "      <td>2</td>\n",
              "      <td>1</td>\n",
              "      <td>1</td>\n",
              "      <td>0.200000</td>\n",
              "      <td>0.212122</td>\n",
              "      <td>0.590435</td>\n",
              "      <td>0.160296</td>\n",
              "      <td>108</td>\n",
              "      <td>1454</td>\n",
              "      <td>1562</td>\n",
              "    </tr>\n",
              "    <tr>\n",
              "      <th>4</th>\n",
              "      <td>5</td>\n",
              "      <td>2011-01-05</td>\n",
              "      <td>1</td>\n",
              "      <td>0</td>\n",
              "      <td>1</td>\n",
              "      <td>0</td>\n",
              "      <td>3</td>\n",
              "      <td>1</td>\n",
              "      <td>1</td>\n",
              "      <td>0.226957</td>\n",
              "      <td>0.229270</td>\n",
              "      <td>0.436957</td>\n",
              "      <td>0.186900</td>\n",
              "      <td>82</td>\n",
              "      <td>1518</td>\n",
              "      <td>1600</td>\n",
              "    </tr>\n",
              "    <tr>\n",
              "      <th>...</th>\n",
              "      <td>...</td>\n",
              "      <td>...</td>\n",
              "      <td>...</td>\n",
              "      <td>...</td>\n",
              "      <td>...</td>\n",
              "      <td>...</td>\n",
              "      <td>...</td>\n",
              "      <td>...</td>\n",
              "      <td>...</td>\n",
              "      <td>...</td>\n",
              "      <td>...</td>\n",
              "      <td>...</td>\n",
              "      <td>...</td>\n",
              "      <td>...</td>\n",
              "      <td>...</td>\n",
              "      <td>...</td>\n",
              "    </tr>\n",
              "    <tr>\n",
              "      <th>726</th>\n",
              "      <td>727</td>\n",
              "      <td>2012-12-27</td>\n",
              "      <td>1</td>\n",
              "      <td>1</td>\n",
              "      <td>12</td>\n",
              "      <td>0</td>\n",
              "      <td>4</td>\n",
              "      <td>1</td>\n",
              "      <td>2</td>\n",
              "      <td>0.254167</td>\n",
              "      <td>0.226642</td>\n",
              "      <td>0.652917</td>\n",
              "      <td>0.350133</td>\n",
              "      <td>247</td>\n",
              "      <td>1867</td>\n",
              "      <td>2114</td>\n",
              "    </tr>\n",
              "    <tr>\n",
              "      <th>727</th>\n",
              "      <td>728</td>\n",
              "      <td>2012-12-28</td>\n",
              "      <td>1</td>\n",
              "      <td>1</td>\n",
              "      <td>12</td>\n",
              "      <td>0</td>\n",
              "      <td>5</td>\n",
              "      <td>1</td>\n",
              "      <td>2</td>\n",
              "      <td>0.253333</td>\n",
              "      <td>0.255046</td>\n",
              "      <td>0.590000</td>\n",
              "      <td>0.155471</td>\n",
              "      <td>644</td>\n",
              "      <td>2451</td>\n",
              "      <td>3095</td>\n",
              "    </tr>\n",
              "    <tr>\n",
              "      <th>728</th>\n",
              "      <td>729</td>\n",
              "      <td>2012-12-29</td>\n",
              "      <td>1</td>\n",
              "      <td>1</td>\n",
              "      <td>12</td>\n",
              "      <td>0</td>\n",
              "      <td>6</td>\n",
              "      <td>0</td>\n",
              "      <td>2</td>\n",
              "      <td>0.253333</td>\n",
              "      <td>0.242400</td>\n",
              "      <td>0.752917</td>\n",
              "      <td>0.124383</td>\n",
              "      <td>159</td>\n",
              "      <td>1182</td>\n",
              "      <td>1341</td>\n",
              "    </tr>\n",
              "    <tr>\n",
              "      <th>729</th>\n",
              "      <td>730</td>\n",
              "      <td>2012-12-30</td>\n",
              "      <td>1</td>\n",
              "      <td>1</td>\n",
              "      <td>12</td>\n",
              "      <td>0</td>\n",
              "      <td>0</td>\n",
              "      <td>0</td>\n",
              "      <td>1</td>\n",
              "      <td>0.255833</td>\n",
              "      <td>0.231700</td>\n",
              "      <td>0.483333</td>\n",
              "      <td>0.350754</td>\n",
              "      <td>364</td>\n",
              "      <td>1432</td>\n",
              "      <td>1796</td>\n",
              "    </tr>\n",
              "    <tr>\n",
              "      <th>730</th>\n",
              "      <td>731</td>\n",
              "      <td>2012-12-31</td>\n",
              "      <td>1</td>\n",
              "      <td>1</td>\n",
              "      <td>12</td>\n",
              "      <td>0</td>\n",
              "      <td>1</td>\n",
              "      <td>1</td>\n",
              "      <td>2</td>\n",
              "      <td>0.215833</td>\n",
              "      <td>0.223487</td>\n",
              "      <td>0.577500</td>\n",
              "      <td>0.154846</td>\n",
              "      <td>439</td>\n",
              "      <td>2290</td>\n",
              "      <td>2729</td>\n",
              "    </tr>\n",
              "  </tbody>\n",
              "</table>\n",
              "<p>731 rows × 16 columns</p>\n",
              "</div>"
            ],
            "text/plain": [
              "     instant      dteday  season  yr  mnth  holiday  weekday  workingday  \\\n",
              "0          1  2011-01-01       1   0     1        0        6           0   \n",
              "1          2  2011-01-02       1   0     1        0        0           0   \n",
              "2          3  2011-01-03       1   0     1        0        1           1   \n",
              "3          4  2011-01-04       1   0     1        0        2           1   \n",
              "4          5  2011-01-05       1   0     1        0        3           1   \n",
              "..       ...         ...     ...  ..   ...      ...      ...         ...   \n",
              "726      727  2012-12-27       1   1    12        0        4           1   \n",
              "727      728  2012-12-28       1   1    12        0        5           1   \n",
              "728      729  2012-12-29       1   1    12        0        6           0   \n",
              "729      730  2012-12-30       1   1    12        0        0           0   \n",
              "730      731  2012-12-31       1   1    12        0        1           1   \n",
              "\n",
              "     weathersit      temp     atemp       hum  windspeed  casual  registered  \\\n",
              "0             2  0.344167  0.363625  0.805833   0.160446     331         654   \n",
              "1             2  0.363478  0.353739  0.696087   0.248539     131         670   \n",
              "2             1  0.196364  0.189405  0.437273   0.248309     120        1229   \n",
              "3             1  0.200000  0.212122  0.590435   0.160296     108        1454   \n",
              "4             1  0.226957  0.229270  0.436957   0.186900      82        1518   \n",
              "..          ...       ...       ...       ...        ...     ...         ...   \n",
              "726           2  0.254167  0.226642  0.652917   0.350133     247        1867   \n",
              "727           2  0.253333  0.255046  0.590000   0.155471     644        2451   \n",
              "728           2  0.253333  0.242400  0.752917   0.124383     159        1182   \n",
              "729           1  0.255833  0.231700  0.483333   0.350754     364        1432   \n",
              "730           2  0.215833  0.223487  0.577500   0.154846     439        2290   \n",
              "\n",
              "      cnt  \n",
              "0     985  \n",
              "1     801  \n",
              "2    1349  \n",
              "3    1562  \n",
              "4    1600  \n",
              "..    ...  \n",
              "726  2114  \n",
              "727  3095  \n",
              "728  1341  \n",
              "729  1796  \n",
              "730  2729  \n",
              "\n",
              "[731 rows x 16 columns]"
            ]
          },
          "execution_count": 3,
          "metadata": {},
          "output_type": "execute_result"
        }
      ],
      "source": [
        "day_df = pd.read_csv('https://github.com/faarh-nn/bike-sharing-data-analysis/blob/main/data/day.csv?raw=true')\n",
        "day_df"
      ]
    },
    {
      "cell_type": "markdown",
      "metadata": {},
      "source": [
        "Berdasarkan output di atas, diketahui bahwa dataset `day` terdiri dari 731 baris dan 16 kolom"
      ]
    },
    {
      "cell_type": "markdown",
      "metadata": {},
      "source": [
        "Memuat dataset berdasarkan jam (hour)"
      ]
    },
    {
      "cell_type": "code",
      "execution_count": 4,
      "metadata": {
        "id": "ax-3tEjc9Cj1"
      },
      "outputs": [
        {
          "data": {
            "text/html": [
              "<div>\n",
              "<style scoped>\n",
              "    .dataframe tbody tr th:only-of-type {\n",
              "        vertical-align: middle;\n",
              "    }\n",
              "\n",
              "    .dataframe tbody tr th {\n",
              "        vertical-align: top;\n",
              "    }\n",
              "\n",
              "    .dataframe thead th {\n",
              "        text-align: right;\n",
              "    }\n",
              "</style>\n",
              "<table border=\"1\" class=\"dataframe\">\n",
              "  <thead>\n",
              "    <tr style=\"text-align: right;\">\n",
              "      <th></th>\n",
              "      <th>instant</th>\n",
              "      <th>dteday</th>\n",
              "      <th>season</th>\n",
              "      <th>yr</th>\n",
              "      <th>mnth</th>\n",
              "      <th>hr</th>\n",
              "      <th>holiday</th>\n",
              "      <th>weekday</th>\n",
              "      <th>workingday</th>\n",
              "      <th>weathersit</th>\n",
              "      <th>temp</th>\n",
              "      <th>atemp</th>\n",
              "      <th>hum</th>\n",
              "      <th>windspeed</th>\n",
              "      <th>casual</th>\n",
              "      <th>registered</th>\n",
              "      <th>cnt</th>\n",
              "    </tr>\n",
              "  </thead>\n",
              "  <tbody>\n",
              "    <tr>\n",
              "      <th>0</th>\n",
              "      <td>1</td>\n",
              "      <td>2011-01-01</td>\n",
              "      <td>1</td>\n",
              "      <td>0</td>\n",
              "      <td>1</td>\n",
              "      <td>0</td>\n",
              "      <td>0</td>\n",
              "      <td>6</td>\n",
              "      <td>0</td>\n",
              "      <td>1</td>\n",
              "      <td>0.24</td>\n",
              "      <td>0.2879</td>\n",
              "      <td>0.81</td>\n",
              "      <td>0.0000</td>\n",
              "      <td>3</td>\n",
              "      <td>13</td>\n",
              "      <td>16</td>\n",
              "    </tr>\n",
              "    <tr>\n",
              "      <th>1</th>\n",
              "      <td>2</td>\n",
              "      <td>2011-01-01</td>\n",
              "      <td>1</td>\n",
              "      <td>0</td>\n",
              "      <td>1</td>\n",
              "      <td>1</td>\n",
              "      <td>0</td>\n",
              "      <td>6</td>\n",
              "      <td>0</td>\n",
              "      <td>1</td>\n",
              "      <td>0.22</td>\n",
              "      <td>0.2727</td>\n",
              "      <td>0.80</td>\n",
              "      <td>0.0000</td>\n",
              "      <td>8</td>\n",
              "      <td>32</td>\n",
              "      <td>40</td>\n",
              "    </tr>\n",
              "    <tr>\n",
              "      <th>2</th>\n",
              "      <td>3</td>\n",
              "      <td>2011-01-01</td>\n",
              "      <td>1</td>\n",
              "      <td>0</td>\n",
              "      <td>1</td>\n",
              "      <td>2</td>\n",
              "      <td>0</td>\n",
              "      <td>6</td>\n",
              "      <td>0</td>\n",
              "      <td>1</td>\n",
              "      <td>0.22</td>\n",
              "      <td>0.2727</td>\n",
              "      <td>0.80</td>\n",
              "      <td>0.0000</td>\n",
              "      <td>5</td>\n",
              "      <td>27</td>\n",
              "      <td>32</td>\n",
              "    </tr>\n",
              "    <tr>\n",
              "      <th>3</th>\n",
              "      <td>4</td>\n",
              "      <td>2011-01-01</td>\n",
              "      <td>1</td>\n",
              "      <td>0</td>\n",
              "      <td>1</td>\n",
              "      <td>3</td>\n",
              "      <td>0</td>\n",
              "      <td>6</td>\n",
              "      <td>0</td>\n",
              "      <td>1</td>\n",
              "      <td>0.24</td>\n",
              "      <td>0.2879</td>\n",
              "      <td>0.75</td>\n",
              "      <td>0.0000</td>\n",
              "      <td>3</td>\n",
              "      <td>10</td>\n",
              "      <td>13</td>\n",
              "    </tr>\n",
              "    <tr>\n",
              "      <th>4</th>\n",
              "      <td>5</td>\n",
              "      <td>2011-01-01</td>\n",
              "      <td>1</td>\n",
              "      <td>0</td>\n",
              "      <td>1</td>\n",
              "      <td>4</td>\n",
              "      <td>0</td>\n",
              "      <td>6</td>\n",
              "      <td>0</td>\n",
              "      <td>1</td>\n",
              "      <td>0.24</td>\n",
              "      <td>0.2879</td>\n",
              "      <td>0.75</td>\n",
              "      <td>0.0000</td>\n",
              "      <td>0</td>\n",
              "      <td>1</td>\n",
              "      <td>1</td>\n",
              "    </tr>\n",
              "    <tr>\n",
              "      <th>...</th>\n",
              "      <td>...</td>\n",
              "      <td>...</td>\n",
              "      <td>...</td>\n",
              "      <td>...</td>\n",
              "      <td>...</td>\n",
              "      <td>...</td>\n",
              "      <td>...</td>\n",
              "      <td>...</td>\n",
              "      <td>...</td>\n",
              "      <td>...</td>\n",
              "      <td>...</td>\n",
              "      <td>...</td>\n",
              "      <td>...</td>\n",
              "      <td>...</td>\n",
              "      <td>...</td>\n",
              "      <td>...</td>\n",
              "      <td>...</td>\n",
              "    </tr>\n",
              "    <tr>\n",
              "      <th>17374</th>\n",
              "      <td>17375</td>\n",
              "      <td>2012-12-31</td>\n",
              "      <td>1</td>\n",
              "      <td>1</td>\n",
              "      <td>12</td>\n",
              "      <td>19</td>\n",
              "      <td>0</td>\n",
              "      <td>1</td>\n",
              "      <td>1</td>\n",
              "      <td>2</td>\n",
              "      <td>0.26</td>\n",
              "      <td>0.2576</td>\n",
              "      <td>0.60</td>\n",
              "      <td>0.1642</td>\n",
              "      <td>11</td>\n",
              "      <td>108</td>\n",
              "      <td>119</td>\n",
              "    </tr>\n",
              "    <tr>\n",
              "      <th>17375</th>\n",
              "      <td>17376</td>\n",
              "      <td>2012-12-31</td>\n",
              "      <td>1</td>\n",
              "      <td>1</td>\n",
              "      <td>12</td>\n",
              "      <td>20</td>\n",
              "      <td>0</td>\n",
              "      <td>1</td>\n",
              "      <td>1</td>\n",
              "      <td>2</td>\n",
              "      <td>0.26</td>\n",
              "      <td>0.2576</td>\n",
              "      <td>0.60</td>\n",
              "      <td>0.1642</td>\n",
              "      <td>8</td>\n",
              "      <td>81</td>\n",
              "      <td>89</td>\n",
              "    </tr>\n",
              "    <tr>\n",
              "      <th>17376</th>\n",
              "      <td>17377</td>\n",
              "      <td>2012-12-31</td>\n",
              "      <td>1</td>\n",
              "      <td>1</td>\n",
              "      <td>12</td>\n",
              "      <td>21</td>\n",
              "      <td>0</td>\n",
              "      <td>1</td>\n",
              "      <td>1</td>\n",
              "      <td>1</td>\n",
              "      <td>0.26</td>\n",
              "      <td>0.2576</td>\n",
              "      <td>0.60</td>\n",
              "      <td>0.1642</td>\n",
              "      <td>7</td>\n",
              "      <td>83</td>\n",
              "      <td>90</td>\n",
              "    </tr>\n",
              "    <tr>\n",
              "      <th>17377</th>\n",
              "      <td>17378</td>\n",
              "      <td>2012-12-31</td>\n",
              "      <td>1</td>\n",
              "      <td>1</td>\n",
              "      <td>12</td>\n",
              "      <td>22</td>\n",
              "      <td>0</td>\n",
              "      <td>1</td>\n",
              "      <td>1</td>\n",
              "      <td>1</td>\n",
              "      <td>0.26</td>\n",
              "      <td>0.2727</td>\n",
              "      <td>0.56</td>\n",
              "      <td>0.1343</td>\n",
              "      <td>13</td>\n",
              "      <td>48</td>\n",
              "      <td>61</td>\n",
              "    </tr>\n",
              "    <tr>\n",
              "      <th>17378</th>\n",
              "      <td>17379</td>\n",
              "      <td>2012-12-31</td>\n",
              "      <td>1</td>\n",
              "      <td>1</td>\n",
              "      <td>12</td>\n",
              "      <td>23</td>\n",
              "      <td>0</td>\n",
              "      <td>1</td>\n",
              "      <td>1</td>\n",
              "      <td>1</td>\n",
              "      <td>0.26</td>\n",
              "      <td>0.2727</td>\n",
              "      <td>0.65</td>\n",
              "      <td>0.1343</td>\n",
              "      <td>12</td>\n",
              "      <td>37</td>\n",
              "      <td>49</td>\n",
              "    </tr>\n",
              "  </tbody>\n",
              "</table>\n",
              "<p>17379 rows × 17 columns</p>\n",
              "</div>"
            ],
            "text/plain": [
              "       instant      dteday  season  yr  mnth  hr  holiday  weekday  \\\n",
              "0            1  2011-01-01       1   0     1   0        0        6   \n",
              "1            2  2011-01-01       1   0     1   1        0        6   \n",
              "2            3  2011-01-01       1   0     1   2        0        6   \n",
              "3            4  2011-01-01       1   0     1   3        0        6   \n",
              "4            5  2011-01-01       1   0     1   4        0        6   \n",
              "...        ...         ...     ...  ..   ...  ..      ...      ...   \n",
              "17374    17375  2012-12-31       1   1    12  19        0        1   \n",
              "17375    17376  2012-12-31       1   1    12  20        0        1   \n",
              "17376    17377  2012-12-31       1   1    12  21        0        1   \n",
              "17377    17378  2012-12-31       1   1    12  22        0        1   \n",
              "17378    17379  2012-12-31       1   1    12  23        0        1   \n",
              "\n",
              "       workingday  weathersit  temp   atemp   hum  windspeed  casual  \\\n",
              "0               0           1  0.24  0.2879  0.81     0.0000       3   \n",
              "1               0           1  0.22  0.2727  0.80     0.0000       8   \n",
              "2               0           1  0.22  0.2727  0.80     0.0000       5   \n",
              "3               0           1  0.24  0.2879  0.75     0.0000       3   \n",
              "4               0           1  0.24  0.2879  0.75     0.0000       0   \n",
              "...           ...         ...   ...     ...   ...        ...     ...   \n",
              "17374           1           2  0.26  0.2576  0.60     0.1642      11   \n",
              "17375           1           2  0.26  0.2576  0.60     0.1642       8   \n",
              "17376           1           1  0.26  0.2576  0.60     0.1642       7   \n",
              "17377           1           1  0.26  0.2727  0.56     0.1343      13   \n",
              "17378           1           1  0.26  0.2727  0.65     0.1343      12   \n",
              "\n",
              "       registered  cnt  \n",
              "0              13   16  \n",
              "1              32   40  \n",
              "2              27   32  \n",
              "3              10   13  \n",
              "4               1    1  \n",
              "...           ...  ...  \n",
              "17374         108  119  \n",
              "17375          81   89  \n",
              "17376          83   90  \n",
              "17377          48   61  \n",
              "17378          37   49  \n",
              "\n",
              "[17379 rows x 17 columns]"
            ]
          },
          "execution_count": 4,
          "metadata": {},
          "output_type": "execute_result"
        }
      ],
      "source": [
        "hour_df = pd.read_csv('https://github.com/faarh-nn/bike-sharing-data-analysis/blob/main/data/hour.csv?raw=true')\n",
        "hour_df"
      ]
    },
    {
      "cell_type": "markdown",
      "metadata": {},
      "source": [
        "Berdasarkan output di atas, diketahui bahwa dataset `hour` terdiri dari 17379 baris dan 17 kolom"
      ]
    },
    {
      "cell_type": "markdown",
      "metadata": {
        "id": "FHSiqaZp8DC1"
      },
      "source": [
        "### Assessing Data"
      ]
    },
    {
      "cell_type": "markdown",
      "metadata": {},
      "source": [
        "Memeriksa keberadaan missing value dan tipe data untuk dataset `day`"
      ]
    },
    {
      "cell_type": "code",
      "execution_count": 5,
      "metadata": {},
      "outputs": [
        {
          "name": "stdout",
          "output_type": "stream",
          "text": [
            "<class 'pandas.core.frame.DataFrame'>\n",
            "RangeIndex: 731 entries, 0 to 730\n",
            "Data columns (total 16 columns):\n",
            " #   Column      Non-Null Count  Dtype  \n",
            "---  ------      --------------  -----  \n",
            " 0   instant     731 non-null    int64  \n",
            " 1   dteday      731 non-null    object \n",
            " 2   season      731 non-null    int64  \n",
            " 3   yr          731 non-null    int64  \n",
            " 4   mnth        731 non-null    int64  \n",
            " 5   holiday     731 non-null    int64  \n",
            " 6   weekday     731 non-null    int64  \n",
            " 7   workingday  731 non-null    int64  \n",
            " 8   weathersit  731 non-null    int64  \n",
            " 9   temp        731 non-null    float64\n",
            " 10  atemp       731 non-null    float64\n",
            " 11  hum         731 non-null    float64\n",
            " 12  windspeed   731 non-null    float64\n",
            " 13  casual      731 non-null    int64  \n",
            " 14  registered  731 non-null    int64  \n",
            " 15  cnt         731 non-null    int64  \n",
            "dtypes: float64(4), int64(11), object(1)\n",
            "memory usage: 91.5+ KB\n"
          ]
        }
      ],
      "source": [
        "day_df.info()"
      ]
    },
    {
      "cell_type": "markdown",
      "metadata": {},
      "source": [
        "Berdasarkan output di atas, diketahui bahwa tidak terdapat missing value pada dataset `day`, namun terdapat beberapa tipe data yang perlu diseusaikan pada tahap data cleaning nantinya."
      ]
    },
    {
      "cell_type": "markdown",
      "metadata": {},
      "source": [
        "Memeriksa keberadaan missing value dan tipe data untuk dataset `hour`"
      ]
    },
    {
      "cell_type": "code",
      "execution_count": 6,
      "metadata": {},
      "outputs": [
        {
          "name": "stdout",
          "output_type": "stream",
          "text": [
            "<class 'pandas.core.frame.DataFrame'>\n",
            "RangeIndex: 17379 entries, 0 to 17378\n",
            "Data columns (total 17 columns):\n",
            " #   Column      Non-Null Count  Dtype  \n",
            "---  ------      --------------  -----  \n",
            " 0   instant     17379 non-null  int64  \n",
            " 1   dteday      17379 non-null  object \n",
            " 2   season      17379 non-null  int64  \n",
            " 3   yr          17379 non-null  int64  \n",
            " 4   mnth        17379 non-null  int64  \n",
            " 5   hr          17379 non-null  int64  \n",
            " 6   holiday     17379 non-null  int64  \n",
            " 7   weekday     17379 non-null  int64  \n",
            " 8   workingday  17379 non-null  int64  \n",
            " 9   weathersit  17379 non-null  int64  \n",
            " 10  temp        17379 non-null  float64\n",
            " 11  atemp       17379 non-null  float64\n",
            " 12  hum         17379 non-null  float64\n",
            " 13  windspeed   17379 non-null  float64\n",
            " 14  casual      17379 non-null  int64  \n",
            " 15  registered  17379 non-null  int64  \n",
            " 16  cnt         17379 non-null  int64  \n",
            "dtypes: float64(4), int64(12), object(1)\n",
            "memory usage: 2.3+ MB\n"
          ]
        }
      ],
      "source": [
        "hour_df.info()"
      ]
    },
    {
      "cell_type": "markdown",
      "metadata": {},
      "source": [
        "Berdasarkan output di atas, diketahui bahwa tidak terdapat missing value pada dataset `hour`, namun terdapat beberapa tipe data yang perlu diseusaikan pada tahap data cleaning nantinya."
      ]
    },
    {
      "cell_type": "markdown",
      "metadata": {},
      "source": [
        "Memeriksa keberadaan duplikasi dataset `day` dan dataset `hour`"
      ]
    },
    {
      "cell_type": "code",
      "execution_count": 7,
      "metadata": {},
      "outputs": [
        {
          "name": "stdout",
          "output_type": "stream",
          "text": [
            "Jumlah duplikasi untuk data day:  0\n",
            "Jumlah duplikasi untuk data hour:  0\n"
          ]
        }
      ],
      "source": [
        "print(\"Jumlah duplikasi untuk data day: \", day_df.duplicated().sum())\n",
        "print(\"Jumlah duplikasi untuk data hour: \", hour_df.duplicated().sum())"
      ]
    },
    {
      "cell_type": "markdown",
      "metadata": {},
      "source": [
        "Berdasarkan output di atas, diketahui bahwa tidak terdapat duplikasi data, baik pada dataset `day` maupun pada dataset `hour`."
      ]
    },
    {
      "cell_type": "markdown",
      "metadata": {
        "id": "EhN5R4hr8DC1"
      },
      "source": [
        "### Cleaning Data"
      ]
    },
    {
      "cell_type": "markdown",
      "metadata": {},
      "source": [
        "Menghapus kolom yang tidak diperlukan. Dalam hal ini, kolom yang akan dihapus adalah kolom `instant` karena informasi yang disimpan oleh kolom ini telah diwakili oleh indeks bawaan dari library pandas."
      ]
    },
    {
      "cell_type": "code",
      "execution_count": 8,
      "metadata": {},
      "outputs": [],
      "source": [
        "day_df.drop(['instant'], axis = 1, inplace= True)\n",
        "hour_df.drop(['instant'], axis = 1, inplace= True)"
      ]
    },
    {
      "cell_type": "markdown",
      "metadata": {},
      "source": [
        "Mengubah tipe data beberapa kolom sesuai dengan keterangan pada metadata (misalnya, kolom yang mengandung informasi tanggal diubah menjadi `datetime` dan kolom yang mengandung informasi kategorikal diubah menjadi `category`)."
      ]
    },
    {
      "cell_type": "code",
      "execution_count": 9,
      "metadata": {
        "id": "jVnYpprE9Evz"
      },
      "outputs": [],
      "source": [
        "day_df['dteday'] = pd.to_datetime(day_df['dteday'])\n",
        "hour_df['dteday'] = pd.to_datetime(hour_df['dteday'])\n",
        "day_df['season'] = day_df.season.astype('category')\n",
        "hour_df['season'] = hour_df.season.astype('category')\n",
        "day_df['mnth'] = day_df.mnth.astype('category')\n",
        "hour_df['mnth'] = hour_df.mnth.astype('category')\n",
        "day_df['holiday'] = day_df.holiday.astype('category')\n",
        "hour_df['holiday'] = hour_df.holiday.astype('category')\n",
        "day_df['weekday'] = day_df.weekday.astype('category')\n",
        "hour_df['weekday'] = hour_df.weekday.astype('category')\n",
        "day_df['workingday'] = day_df.workingday.astype('category')\n",
        "hour_df['workingday'] = hour_df.workingday.astype('category')\n",
        "day_df['weathersit'] = day_df.weathersit.astype('category')\n",
        "hour_df['weathersit'] = hour_df.weathersit.astype('category')"
      ]
    },
    {
      "cell_type": "markdown",
      "metadata": {
        "id": "Q_5ejIqckiSP"
      },
      "source": [
        "Mengembalikan nilai dari 'temp', 'atemp', 'humidity, 'windspeed' ke dalam nilai asli yang belum dinormalisasi untuk mempermudah analisis dan interpretasi ke depannya."
      ]
    },
    {
      "cell_type": "code",
      "execution_count": 10,
      "metadata": {},
      "outputs": [],
      "source": [
        "day_df['temp'] = day_df['temp']*41\n",
        "hour_df['temp'] = hour_df['temp']*41\n",
        "day_df['atemp'] = day_df['atemp']*50\n",
        "hour_df['atemp'] = hour_df['atemp']*50\n",
        "day_df['hum'] = day_df['hum']*100\n",
        "hour_df['hum'] = hour_df['hum']*100\n",
        "day_df['windspeed'] = day_df['windspeed']*67\n",
        "hour_df['windspeed'] = hour_df['windspeed']*67"
      ]
    },
    {
      "cell_type": "markdown",
      "metadata": {},
      "source": [
        "Melakukan konversi data pada kolom yang bertipe kategori berdasarkan kriteria yang ditunjukkan pada mettadata atau file readme.txt"
      ]
    },
    {
      "cell_type": "markdown",
      "metadata": {},
      "source": [
        "1. Konversi nilai untuk kolom 'season'"
      ]
    },
    {
      "cell_type": "code",
      "execution_count": 11,
      "metadata": {},
      "outputs": [],
      "source": [
        "day_df['season'] = day_df['season'].cat.rename_categories({1: 'Winter', 2: 'Spring', 3: 'Summer', 4: 'Fall'})\n",
        "hour_df['season'] = hour_df['season'].cat.rename_categories({1: 'Winter', 2: 'Spring', 3: 'Summer', 4: 'Fall'})"
      ]
    },
    {
      "cell_type": "markdown",
      "metadata": {},
      "source": [
        "2. Konversi nilai untuk kolom 'yr'"
      ]
    },
    {
      "cell_type": "code",
      "execution_count": 12,
      "metadata": {},
      "outputs": [],
      "source": [
        "day_df['yr'] = day_df['yr'].replace({0: 2011, 1: 2012})\n",
        "hour_df['yr'] = hour_df['yr'].replace({0: 2011, 1: 2012})"
      ]
    },
    {
      "cell_type": "markdown",
      "metadata": {},
      "source": [
        "3. Konversi nilai untuk kolom 'mnth'"
      ]
    },
    {
      "cell_type": "code",
      "execution_count": 13,
      "metadata": {},
      "outputs": [],
      "source": [
        "day_df['mnth'] = day_df['mnth'].cat.rename_categories({1: 'Jan', 2: 'Feb', 3: 'Mar', 4: 'Apr', 5: 'May', 6: 'Jun', 7: 'Jul', 8: 'Aug', 9: 'Sep', 10: 'Oct', 11: 'Nov', 12: 'Dec'})\n",
        "hour_df['mnth'] = hour_df['mnth'].cat.rename_categories({1: 'Jan', 2: 'Feb', 3: 'Mar', 4: 'Apr', 5: 'May', 6: 'Jun', 7: 'Jul', 8: 'Aug', 9: 'Sep', 10: 'Oct', 11: 'Nov', 12: 'Dec'})"
      ]
    },
    {
      "cell_type": "markdown",
      "metadata": {},
      "source": [
        "4. Konversi nilai untuk kolom 'weathersit'"
      ]
    },
    {
      "cell_type": "code",
      "execution_count": 14,
      "metadata": {},
      "outputs": [],
      "source": [
        "day_df['weathersit'] = day_df['weathersit'].cat.rename_categories({1: 'Clear', 2: 'Misty', 3: 'Light_RainSnow', 4: 'Heavy_RainSnow'})\n",
        "hour_df['weathersit'] = hour_df['weathersit'].cat.rename_categories({1: 'Clear', 2: 'Misty', 3: 'Light_RainSnow', 4: 'Heavy_RainSnow'})"
      ]
    },
    {
      "cell_type": "markdown",
      "metadata": {},
      "source": [
        "5. Konversi nilai untuk kolom 'weekday'"
      ]
    },
    {
      "cell_type": "code",
      "execution_count": 15,
      "metadata": {},
      "outputs": [],
      "source": [
        "day_df['weekday'] = day_df['weekday'].cat.rename_categories({0: 'Sun', 1: 'Mon', 2: 'Tue', 3: 'Wed', 4: 'Thu', 5: 'Fri', 6: 'Sat'})\n",
        "hour_df['weekday'] = hour_df['weekday'].cat.rename_categories({0: 'Sun', 1: 'Mon', 2: 'Tue', 3: 'Wed', 4: 'Thu', 5: 'Fri', 6: 'Sat'})"
      ]
    },
    {
      "cell_type": "markdown",
      "metadata": {},
      "source": [
        "6. Konversi nilai untuk kolom 'workingday'"
      ]
    },
    {
      "cell_type": "code",
      "execution_count": 16,
      "metadata": {},
      "outputs": [],
      "source": [
        "day_df['workingday'] = day_df['workingday'].cat.rename_categories({0: 'No', 1: 'Yes'})\n",
        "hour_df['workingday'] = hour_df['workingday'].cat.rename_categories({0: 'No', 1: 'Yes'})"
      ]
    },
    {
      "cell_type": "markdown",
      "metadata": {
        "id": "gp-Y6wU38DC1"
      },
      "source": [
        "## Exploratory Data Analysis (EDA)"
      ]
    },
    {
      "cell_type": "markdown",
      "metadata": {
        "id": "MW7WF2kr8DC1"
      },
      "source": [
        "### Eksplorasi Dataset `Day`"
      ]
    },
    {
      "cell_type": "markdown",
      "metadata": {},
      "source": [
        "Agregasi jumlah penyewaan sepeda berdasarkan hari kerja dan hari libur"
      ]
    },
    {
      "cell_type": "code",
      "execution_count": 17,
      "metadata": {
        "id": "e9CQCZjk8DC2"
      },
      "outputs": [
        {
          "name": "stdout",
          "output_type": "stream",
          "text": [
            "            count         mean          std    min      25%     50%     75%  \\\n",
            "workingday                                                                    \n",
            "No          231.0  4330.168831  2052.141245  605.0  2710.50  4459.0  5907.5   \n",
            "Yes         500.0  4584.820000  1878.415583   22.0  3344.25  4582.0  5987.5   \n",
            "\n",
            "               max  \n",
            "workingday          \n",
            "No          8714.0  \n",
            "Yes         8362.0  \n"
          ]
        },
        {
          "name": "stderr",
          "output_type": "stream",
          "text": [
            "C:\\Users\\farha\\AppData\\Local\\Temp\\ipykernel_17564\\2425580825.py:1: FutureWarning: The default of observed=False is deprecated and will be changed to True in a future version of pandas. Pass observed=False to retain current behavior or observed=True to adopt the future default and silence this warning.\n",
            "  usage_summary = day_df.groupby(\"workingday\")[\"cnt\"].describe()\n"
          ]
        }
      ],
      "source": [
        "usage_summary = day_df.groupby(\"workingday\")[\"cnt\"].describe()\n",
        "print(usage_summary)"
      ]
    },
    {
      "cell_type": "markdown",
      "metadata": {
        "id": "th_Lzl2Fkj9O"
      },
      "source": [
        "Berdasarkan output di atas, terlihat bahwa secara rata-rata jumlah penyewaan sepeda pada hari kerja lebih tinggi dibandingkan dengan jumlah penyewaan pada akhir pekan, meskipun dengan selisih yang tidak begitu besar."
      ]
    },
    {
      "cell_type": "markdown",
      "metadata": {},
      "source": [
        "Agregasi jumlah penyewaan sepeda berdasarkan musim"
      ]
    },
    {
      "cell_type": "code",
      "execution_count": 18,
      "metadata": {},
      "outputs": [
        {
          "name": "stderr",
          "output_type": "stream",
          "text": [
            "C:\\Users\\farha\\AppData\\Local\\Temp\\ipykernel_17564\\1926030281.py:1: FutureWarning: The default of observed=False is deprecated and will be changed to True in a future version of pandas. Pass observed=False to retain current behavior or observed=True to adopt the future default and silence this warning.\n",
            "  agg_season = day_df.groupby(\"season\")[\"cnt\"].agg([\"sum\", \"mean\", \"median\", \"max\", \"min\"]).reset_index()\n"
          ]
        },
        {
          "data": {
            "text/html": [
              "<div>\n",
              "<style scoped>\n",
              "    .dataframe tbody tr th:only-of-type {\n",
              "        vertical-align: middle;\n",
              "    }\n",
              "\n",
              "    .dataframe tbody tr th {\n",
              "        vertical-align: top;\n",
              "    }\n",
              "\n",
              "    .dataframe thead th {\n",
              "        text-align: right;\n",
              "    }\n",
              "</style>\n",
              "<table border=\"1\" class=\"dataframe\">\n",
              "  <thead>\n",
              "    <tr style=\"text-align: right;\">\n",
              "      <th></th>\n",
              "      <th>season</th>\n",
              "      <th>sum</th>\n",
              "      <th>mean</th>\n",
              "      <th>median</th>\n",
              "      <th>max</th>\n",
              "      <th>min</th>\n",
              "    </tr>\n",
              "  </thead>\n",
              "  <tbody>\n",
              "    <tr>\n",
              "      <th>0</th>\n",
              "      <td>Winter</td>\n",
              "      <td>471348</td>\n",
              "      <td>2604.132597</td>\n",
              "      <td>2209.0</td>\n",
              "      <td>7836</td>\n",
              "      <td>431</td>\n",
              "    </tr>\n",
              "    <tr>\n",
              "      <th>1</th>\n",
              "      <td>Spring</td>\n",
              "      <td>918589</td>\n",
              "      <td>4992.331522</td>\n",
              "      <td>4941.5</td>\n",
              "      <td>8362</td>\n",
              "      <td>795</td>\n",
              "    </tr>\n",
              "    <tr>\n",
              "      <th>2</th>\n",
              "      <td>Summer</td>\n",
              "      <td>1061129</td>\n",
              "      <td>5644.303191</td>\n",
              "      <td>5353.5</td>\n",
              "      <td>8714</td>\n",
              "      <td>1115</td>\n",
              "    </tr>\n",
              "    <tr>\n",
              "      <th>3</th>\n",
              "      <td>Fall</td>\n",
              "      <td>841613</td>\n",
              "      <td>4728.162921</td>\n",
              "      <td>4634.5</td>\n",
              "      <td>8555</td>\n",
              "      <td>22</td>\n",
              "    </tr>\n",
              "  </tbody>\n",
              "</table>\n",
              "</div>"
            ],
            "text/plain": [
              "   season      sum         mean  median   max   min\n",
              "0  Winter   471348  2604.132597  2209.0  7836   431\n",
              "1  Spring   918589  4992.331522  4941.5  8362   795\n",
              "2  Summer  1061129  5644.303191  5353.5  8714  1115\n",
              "3    Fall   841613  4728.162921  4634.5  8555    22"
            ]
          },
          "execution_count": 18,
          "metadata": {},
          "output_type": "execute_result"
        }
      ],
      "source": [
        "agg_season = day_df.groupby(\"season\")[\"cnt\"].agg([\"sum\", \"mean\", \"median\", \"max\", \"min\"]).reset_index()\n",
        "agg_season"
      ]
    },
    {
      "cell_type": "markdown",
      "metadata": {},
      "source": [
        "Berdasarkan output di atas, terlihat bahwa penyewaan sepeda paling tinggi adalah di musim gugur, diikuti oleh musim panas. Sedangkan Penyewaan sepeda paling rendah di musim dingin, kemungkinan karena suhu lebih dingin dan kondisi kurang mendukung."
      ]
    },
    {
      "cell_type": "markdown",
      "metadata": {},
      "source": [
        "Agregasi jumlah penyewaan sepeda berdasarkan kondisi cuaca"
      ]
    },
    {
      "cell_type": "code",
      "execution_count": 19,
      "metadata": {},
      "outputs": [
        {
          "name": "stderr",
          "output_type": "stream",
          "text": [
            "C:\\Users\\farha\\AppData\\Local\\Temp\\ipykernel_17564\\1904980938.py:1: FutureWarning: The default of observed=False is deprecated and will be changed to True in a future version of pandas. Pass observed=False to retain current behavior or observed=True to adopt the future default and silence this warning.\n",
            "  agg_weather = day_df.groupby(\"weathersit\")[\"cnt\"].agg([\"sum\", \"mean\", \"median\", \"max\", \"min\"]).reset_index()\n"
          ]
        },
        {
          "data": {
            "text/html": [
              "<div>\n",
              "<style scoped>\n",
              "    .dataframe tbody tr th:only-of-type {\n",
              "        vertical-align: middle;\n",
              "    }\n",
              "\n",
              "    .dataframe tbody tr th {\n",
              "        vertical-align: top;\n",
              "    }\n",
              "\n",
              "    .dataframe thead th {\n",
              "        text-align: right;\n",
              "    }\n",
              "</style>\n",
              "<table border=\"1\" class=\"dataframe\">\n",
              "  <thead>\n",
              "    <tr style=\"text-align: right;\">\n",
              "      <th></th>\n",
              "      <th>weathersit</th>\n",
              "      <th>sum</th>\n",
              "      <th>mean</th>\n",
              "      <th>median</th>\n",
              "      <th>max</th>\n",
              "      <th>min</th>\n",
              "    </tr>\n",
              "  </thead>\n",
              "  <tbody>\n",
              "    <tr>\n",
              "      <th>0</th>\n",
              "      <td>Clear</td>\n",
              "      <td>2257952</td>\n",
              "      <td>4876.786177</td>\n",
              "      <td>4844.0</td>\n",
              "      <td>8714</td>\n",
              "      <td>431</td>\n",
              "    </tr>\n",
              "    <tr>\n",
              "      <th>1</th>\n",
              "      <td>Misty</td>\n",
              "      <td>996858</td>\n",
              "      <td>4035.862348</td>\n",
              "      <td>4040.0</td>\n",
              "      <td>8362</td>\n",
              "      <td>605</td>\n",
              "    </tr>\n",
              "    <tr>\n",
              "      <th>2</th>\n",
              "      <td>Light_RainSnow</td>\n",
              "      <td>37869</td>\n",
              "      <td>1803.285714</td>\n",
              "      <td>1817.0</td>\n",
              "      <td>4639</td>\n",
              "      <td>22</td>\n",
              "    </tr>\n",
              "  </tbody>\n",
              "</table>\n",
              "</div>"
            ],
            "text/plain": [
              "       weathersit      sum         mean  median   max  min\n",
              "0           Clear  2257952  4876.786177  4844.0  8714  431\n",
              "1           Misty   996858  4035.862348  4040.0  8362  605\n",
              "2  Light_RainSnow    37869  1803.285714  1817.0  4639   22"
            ]
          },
          "execution_count": 19,
          "metadata": {},
          "output_type": "execute_result"
        }
      ],
      "source": [
        "agg_weather = day_df.groupby(\"weathersit\")[\"cnt\"].agg([\"sum\", \"mean\", \"median\", \"max\", \"min\"]).reset_index()\n",
        "agg_weather"
      ]
    },
    {
      "cell_type": "markdown",
      "metadata": {},
      "source": [
        "Berdasarkan output di atas, diketahui bahwa penyewaan sepeda tertinggi adalah pada saat cuaca cerah kemudian menurun pada saat cuaca berawan dan hujan. Sedangkan pada saat cuaca ekstrem tidak ada penyewaan, kemungkinan karena kondisi berbahaya yang tidak memungkinkan mobilisasi menggunakan sepeda."
      ]
    },
    {
      "cell_type": "markdown",
      "metadata": {},
      "source": [
        "### Eksplorasi Dataset `Hour`"
      ]
    },
    {
      "cell_type": "code",
      "execution_count": 20,
      "metadata": {},
      "outputs": [
        {
          "data": {
            "text/html": [
              "<div>\n",
              "<style scoped>\n",
              "    .dataframe tbody tr th:only-of-type {\n",
              "        vertical-align: middle;\n",
              "    }\n",
              "\n",
              "    .dataframe tbody tr th {\n",
              "        vertical-align: top;\n",
              "    }\n",
              "\n",
              "    .dataframe thead th {\n",
              "        text-align: right;\n",
              "    }\n",
              "</style>\n",
              "<table border=\"1\" class=\"dataframe\">\n",
              "  <thead>\n",
              "    <tr style=\"text-align: right;\">\n",
              "      <th></th>\n",
              "      <th>hr</th>\n",
              "      <th>cnt</th>\n",
              "    </tr>\n",
              "  </thead>\n",
              "  <tbody>\n",
              "    <tr>\n",
              "      <th>0</th>\n",
              "      <td>0</td>\n",
              "      <td>53.898072</td>\n",
              "    </tr>\n",
              "    <tr>\n",
              "      <th>1</th>\n",
              "      <td>1</td>\n",
              "      <td>33.375691</td>\n",
              "    </tr>\n",
              "    <tr>\n",
              "      <th>2</th>\n",
              "      <td>2</td>\n",
              "      <td>22.869930</td>\n",
              "    </tr>\n",
              "    <tr>\n",
              "      <th>3</th>\n",
              "      <td>3</td>\n",
              "      <td>11.727403</td>\n",
              "    </tr>\n",
              "    <tr>\n",
              "      <th>4</th>\n",
              "      <td>4</td>\n",
              "      <td>6.352941</td>\n",
              "    </tr>\n",
              "    <tr>\n",
              "      <th>5</th>\n",
              "      <td>5</td>\n",
              "      <td>19.889819</td>\n",
              "    </tr>\n",
              "    <tr>\n",
              "      <th>6</th>\n",
              "      <td>6</td>\n",
              "      <td>76.044138</td>\n",
              "    </tr>\n",
              "    <tr>\n",
              "      <th>7</th>\n",
              "      <td>7</td>\n",
              "      <td>212.064649</td>\n",
              "    </tr>\n",
              "    <tr>\n",
              "      <th>8</th>\n",
              "      <td>8</td>\n",
              "      <td>359.011004</td>\n",
              "    </tr>\n",
              "    <tr>\n",
              "      <th>9</th>\n",
              "      <td>9</td>\n",
              "      <td>219.309491</td>\n",
              "    </tr>\n",
              "    <tr>\n",
              "      <th>10</th>\n",
              "      <td>10</td>\n",
              "      <td>173.668501</td>\n",
              "    </tr>\n",
              "    <tr>\n",
              "      <th>11</th>\n",
              "      <td>11</td>\n",
              "      <td>208.143054</td>\n",
              "    </tr>\n",
              "    <tr>\n",
              "      <th>12</th>\n",
              "      <td>12</td>\n",
              "      <td>253.315934</td>\n",
              "    </tr>\n",
              "    <tr>\n",
              "      <th>13</th>\n",
              "      <td>13</td>\n",
              "      <td>253.661180</td>\n",
              "    </tr>\n",
              "    <tr>\n",
              "      <th>14</th>\n",
              "      <td>14</td>\n",
              "      <td>240.949246</td>\n",
              "    </tr>\n",
              "    <tr>\n",
              "      <th>15</th>\n",
              "      <td>15</td>\n",
              "      <td>251.233196</td>\n",
              "    </tr>\n",
              "    <tr>\n",
              "      <th>16</th>\n",
              "      <td>16</td>\n",
              "      <td>311.983562</td>\n",
              "    </tr>\n",
              "    <tr>\n",
              "      <th>17</th>\n",
              "      <td>17</td>\n",
              "      <td>461.452055</td>\n",
              "    </tr>\n",
              "    <tr>\n",
              "      <th>18</th>\n",
              "      <td>18</td>\n",
              "      <td>425.510989</td>\n",
              "    </tr>\n",
              "    <tr>\n",
              "      <th>19</th>\n",
              "      <td>19</td>\n",
              "      <td>311.523352</td>\n",
              "    </tr>\n",
              "    <tr>\n",
              "      <th>20</th>\n",
              "      <td>20</td>\n",
              "      <td>226.030220</td>\n",
              "    </tr>\n",
              "    <tr>\n",
              "      <th>21</th>\n",
              "      <td>21</td>\n",
              "      <td>172.314560</td>\n",
              "    </tr>\n",
              "    <tr>\n",
              "      <th>22</th>\n",
              "      <td>22</td>\n",
              "      <td>131.335165</td>\n",
              "    </tr>\n",
              "    <tr>\n",
              "      <th>23</th>\n",
              "      <td>23</td>\n",
              "      <td>87.831044</td>\n",
              "    </tr>\n",
              "  </tbody>\n",
              "</table>\n",
              "</div>"
            ],
            "text/plain": [
              "    hr         cnt\n",
              "0    0   53.898072\n",
              "1    1   33.375691\n",
              "2    2   22.869930\n",
              "3    3   11.727403\n",
              "4    4    6.352941\n",
              "5    5   19.889819\n",
              "6    6   76.044138\n",
              "7    7  212.064649\n",
              "8    8  359.011004\n",
              "9    9  219.309491\n",
              "10  10  173.668501\n",
              "11  11  208.143054\n",
              "12  12  253.315934\n",
              "13  13  253.661180\n",
              "14  14  240.949246\n",
              "15  15  251.233196\n",
              "16  16  311.983562\n",
              "17  17  461.452055\n",
              "18  18  425.510989\n",
              "19  19  311.523352\n",
              "20  20  226.030220\n",
              "21  21  172.314560\n",
              "22  22  131.335165\n",
              "23  23   87.831044"
            ]
          },
          "execution_count": 20,
          "metadata": {},
          "output_type": "execute_result"
        }
      ],
      "source": [
        "avg_rental_per_hour = hour_df.groupby(\"hr\")[\"cnt\"].mean().reset_index()\n",
        "avg_rental_per_hour"
      ]
    },
    {
      "cell_type": "markdown",
      "metadata": {},
      "source": [
        "Berdasarkan output di atas, diketahui bahwa jumlah penyewaan sepeda terendah adalah pada dini hari pukul 4 yang memang secara ummum minim aktivitas mobilitas. Sedangkan jumlah penyewaan sepeda tertinggi adalah pada sore hari atau jam pulang kerja sekitar pukul 17.00 hingga 18.00 yang memang merupakan puncak aktivitas mobilitas masyarakat secara umum."
      ]
    },
    {
      "cell_type": "markdown",
      "metadata": {
        "id": "zsyZjqak8DC2"
      },
      "source": [
        "## Visualization & Explanatory Analysis"
      ]
    },
    {
      "cell_type": "markdown",
      "metadata": {
        "id": "HZxOiQ6n8DC2"
      },
      "source": [
        "### Pertanyaan 1: Bagaimana pola penggunaan sepeda berdasarkan hari kerja dan akhir pekan?"
      ]
    },
    {
      "cell_type": "code",
      "execution_count": 33,
      "metadata": {
        "id": "1swJUdAD8DC2"
      },
      "outputs": [
        {
          "name": "stderr",
          "output_type": "stream",
          "text": [
            "C:\\Users\\farha\\AppData\\Local\\Temp\\ipykernel_17564\\3592914787.py:1: FutureWarning: The default of observed=False is deprecated and will be changed to True in a future version of pandas. Pass observed=False to retain current behavior or observed=True to adopt the future default and silence this warning.\n",
            "  weekday_avg = day_df.groupby('weekday')['cnt'].mean().reset_index()\n"
          ]
        },
        {
          "data": {
            "image/png": "[encoded data removed]",
            "text/plain": [
              "<Figure size 800x500 with 1 Axes>"
            ]
          },
          "metadata": {},
          "output_type": "display_data"
        }
      ],
      "source": [
        "weekday_avg = day_df.groupby('weekday')['cnt'].mean().reset_index()\n",
        "\n",
        "\n",
        "plt.figure(figsize=(8, 5))\n",
        "sns.lineplot(data=weekday_avg, x='weekday', y='cnt', marker='o', color='blue')\n",
        "plt.title('Rata-rata Penyewaan Sepeda Berdasarkan Hari dalam Seminggu')\n",
        "plt.xlabel(\"\")\n",
        "plt.ylabel(\"\")\n",
        "plt.show()"
      ]
    },
    {
      "cell_type": "markdown",
      "metadata": {},
      "source": [
        "Berdasarkan output di atas, diketahui bahwa hari kerja memiliki rata-rata penyewaan lebih tinggi dibandingkan akhir pekan terutama pada Selasa hingga Jumat. Hal ini menunjukkan bahwa sepeda lebih banyak digunakan untuk aktivitas rutin seperti bekerja atau sekolah. Hasil ini menunjukkan bahwa penggunaan sepeda lebih tinggi selama hari kerja, karena memang penggunaannya untuk transportasi harian yang dapat membantu mengefisiensikan proses mobilitas masyarakat."
      ]
    },
    {
      "cell_type": "markdown",
      "metadata": {
        "id": "DgHI7CiU8DC2"
      },
      "source": [
        "### Pertanyaan 2: Bagaimana cuaca dan musim memengaruhi jumlah penyewaan sepeda?"
      ]
    },
    {
      "cell_type": "markdown",
      "metadata": {},
      "source": [
        "Untuk menjawab pertanyaan 2 ini, akan dibuat tiga visualisasi yaitu rata-rata penyewaan sepeda berdasarkan musim, rata-rata penyewaan sepeda berdasarkan kondisi cuaca, scatter plot hubungan suhu dengan jumlah penyewaan sepeda"
      ]
    },
    {
      "cell_type": "code",
      "execution_count": 35,
      "metadata": {
        "id": "Go0lCsvO8DC2"
      },
      "outputs": [
        {
          "name": "stderr",
          "output_type": "stream",
          "text": [
            "C:\\Users\\farha\\AppData\\Local\\Temp\\ipykernel_17564\\3547255805.py:4: FutureWarning: The default of observed=False is deprecated and will be changed to True in a future version of pandas. Pass observed=False to retain current behavior or observed=True to adopt the future default and silence this warning.\n",
            "  sorted_season = day_df.groupby('season')['cnt'].mean().sort_values(ascending=False).index\n"
          ]
        },
        {
          "data": {
            "image/png": "[encoded data removed]",
            "text/plain": [
              "<Figure size 1800x500 with 3 Axes>"
            ]
          },
          "metadata": {},
          "output_type": "display_data"
        }
      ],
      "source": [
        "fig, axes = plt.subplots(1, 3, figsize=(18, 5))\n",
        "\n",
        "# rata-rata penyewaan sepeda berdasarkan musim\n",
        "sorted_season = day_df.groupby('season')['cnt'].mean().sort_values(ascending=False).index\n",
        "sns.barplot(ax=axes[0], x='season', y='cnt', data=day_df, estimator='mean', errorbar=None, order=sorted_season)\n",
        "axes[0].set_title('Rata-rata Penyewaan Sepeda Berdasarkan Musim')\n",
        "axes[0].set_xlabel('')\n",
        "axes[0].set_ylabel('')\n",
        "\n",
        "# rata-rata penyewaan sepeda berdasarkan kondisi cuaca\n",
        "sns.barplot(ax=axes[1], x='weathersit', y='cnt', data=day_df, estimator='mean', errorbar=None)\n",
        "axes[1].set_title('Rata-rata Penyewaan Sepeda Berdasarkan Kondisi Cuaca')\n",
        "axes[1].set_xlabel('')\n",
        "axes[1].set_ylabel('')\n",
        "\n",
        "# scatter plot hubungan suhu dengan jumlah penyewaan sepeda\n",
        "sns.scatterplot(ax=axes[2], x='temp', y='cnt', data=day_df, alpha=0.5, color='green')\n",
        "axes[2].set_title('Hubungan Suhu (Celcius) dengan Jumlah Penyewaan Sepeda')\n",
        "axes[2].set_xlabel('')\n",
        "axes[2].set_ylabel('')\n",
        "\n",
        "plt.tight_layout()\n",
        "plt.show()"
      ]
    },
    {
      "cell_type": "markdown",
      "metadata": {},
      "source": [
        "Berdasarkan output di atas, diketahui bahwa jika berdasarkan musim penyewaan sepeda tertinggi berada di musim panas dan diikuti oleh musim gugur. Sedangkan penyewaan sepeda terndah berada di musim dingin. Hal ini kemungkinan besar dimungkinkan karena suhu yang dingin membuat beberapa jalan yang seharunsya bisa dilintasi oleh sepeda menjadi tertutup atau tidak bisa terakses, sehingga membuat sebagian besar orang mengurangi mobilitas atau beralih ke moda transportasi lain.\n",
        "\n",
        "Kemudian jika ditinjau berdasarkan kondisi cucaca, penyewaan sepeda tertinggi adalah pada saat cuaca cerah kemudian menurun pada saat cuaca berawan dan hujan. Sedangkan pada saat cuaca ekstrem tidak ada penyewaan, kemungkinan karena kondisi berbahaya yang tidak memungkinkan mobilisasi menggunakan sepeda. Hal ini sejalan dengan tinjauan musim yang mana jika kondisi cuaca mendekati karakteristik musim dingin, maka penyewaan sepeda menurun.\n",
        "\n",
        "Berikutnya, jika ditinjau berdasarkan korelasi (analisis bivariat) terlihat bahwa suhu dan jumlah penyewaan sepeda memiliki korelasi positif, yang berarti bahwa siring peingkatan suhu maka jumlah penyewaan sepeda juga semakin banayk atau semakin bertambah. Sehingga, secara umum dapat dikatakan bahwa aktivitas penyewaan sepeda akan tinggi jika cuaca cerah, suhu tidak terlalu dingin, terutama pada musim panas. "
      ]
    },
    {
      "cell_type": "markdown",
      "metadata": {},
      "source": [
        "### Pertanyaan 3: Pada jam berapa permintaan sepeda paling tinggi dan paling rendah?"
      ]
    },
    {
      "cell_type": "code",
      "execution_count": 36,
      "metadata": {},
      "outputs": [
        {
          "data": {
            "image/png": "[encoded data removed]",
            "text/plain": [
              "<Figure size 1200x600 with 1 Axes>"
            ]
          },
          "metadata": {},
          "output_type": "display_data"
        }
      ],
      "source": [
        "hourly_avg = hour_df.groupby('hr')['cnt'].mean().reset_index()\n",
        "\n",
        "plt.figure(figsize=(12, 6))\n",
        "sns.lineplot(data=hourly_avg, x='hr', y='cnt', marker='o', color='purple')\n",
        "plt.xticks(ticks=range(24))\n",
        "plt.title('Rata-rata Penyewaan Sepeda Berdasarkan Jam')\n",
        "plt.xlabel(\"\")\n",
        "plt.ylabel(\"\")\n",
        "plt.show()"
      ]
    },
    {
      "cell_type": "markdown",
      "metadata": {},
      "source": [
        "Berdasarkan output di atas, terlihat bahwa terdapat beberapa jam yang merupakan waktu sibuk dan beberapa lainnya merupakan waktu sepi. Permintaan meningkat tajam di pagi hari dan sore hari, yang kemungkinan diakibatkan karena jam kerja. Sedangkan jam sepi ditunjukkan pada waktu dini hari. Permintaan tertinggi terjadi pada jam 17:00 (5 sore), kemungkinan karena jam pulang kerja dan permintaan terendah terjadi pada jam 4:00 pagi, saat sebagian besar orang masih tidur."
      ]
    },
    {
      "cell_type": "markdown",
      "metadata": {
        "id": "9y4VUsmcYNZ5"
      },
      "source": [
        "## Analisis Lanjutan - RFM"
      ]
    },
    {
      "cell_type": "markdown",
      "metadata": {},
      "source": [
        "Karena tidak ada ID pelanggan, kita akan menggunakan hari sebagai unit analisis, dengan pendekatan sebagai berikut:\n",
        "\n",
        "- Recency (R) → Hari terakhir di mana terjadi penyewaan tinggi.\n",
        "- Frequency (F) → Seberapa sering hari tersebut memiliki penyewaan tinggi.\n",
        "- Monetary (M) → Total penyewaan sepeda dalam suatu periode."
      ]
    },
    {
      "cell_type": "code",
      "execution_count": 23,
      "metadata": {
        "id": "iWhnzsJGYUCO"
      },
      "outputs": [],
      "source": [
        "latest_date = day_df[\"dteday\"].max()"
      ]
    },
    {
      "cell_type": "markdown",
      "metadata": {},
      "source": [
        "Menghitung Recency (R) → Hari sejak terakhir kali terjadi penyewaan tinggi"
      ]
    },
    {
      "cell_type": "code",
      "execution_count": 25,
      "metadata": {},
      "outputs": [],
      "source": [
        "threshold_high_rentals = day_df[\"cnt\"].quantile(0.75)  # mengambil kuartil atas sebagai batas tinggi\n",
        "high_rental_days = day_df[day_df[\"cnt\"] >= threshold_high_rentals]\n",
        "recency = (latest_date - high_rental_days[\"dteday\"]).dt.days.min()"
      ]
    },
    {
      "cell_type": "markdown",
      "metadata": {},
      "source": [
        "Menghitung Frequency (F) → Berapa kali penyewaan tinggi terjadi dalam periode"
      ]
    },
    {
      "cell_type": "code",
      "execution_count": 26,
      "metadata": {},
      "outputs": [],
      "source": [
        "frequency = len(high_rental_days)"
      ]
    },
    {
      "cell_type": "markdown",
      "metadata": {},
      "source": [
        "Menghitung Monetary (M) → Total penyewaan sepeda"
      ]
    },
    {
      "cell_type": "code",
      "execution_count": 27,
      "metadata": {},
      "outputs": [],
      "source": [
        "monetary = day_df[\"cnt\"].sum()"
      ]
    },
    {
      "cell_type": "markdown",
      "metadata": {},
      "source": [
        "Menampilkan hasil RFM"
      ]
    },
    {
      "cell_type": "code",
      "execution_count": 30,
      "metadata": {},
      "outputs": [
        {
          "data": {
            "text/html": [
              "<div>\n",
              "<style scoped>\n",
              "    .dataframe tbody tr th:only-of-type {\n",
              "        vertical-align: middle;\n",
              "    }\n",
              "\n",
              "    .dataframe tbody tr th {\n",
              "        vertical-align: top;\n",
              "    }\n",
              "\n",
              "    .dataframe thead th {\n",
              "        text-align: right;\n",
              "    }\n",
              "</style>\n",
              "<table border=\"1\" class=\"dataframe\">\n",
              "  <thead>\n",
              "    <tr style=\"text-align: right;\">\n",
              "      <th></th>\n",
              "      <th>Value</th>\n",
              "    </tr>\n",
              "  </thead>\n",
              "  <tbody>\n",
              "    <tr>\n",
              "      <th>Recency (Hari sejak penyewaan tinggi terakhir)</th>\n",
              "      <td>27</td>\n",
              "    </tr>\n",
              "    <tr>\n",
              "      <th>Frequency (Jumlah hari dengan penyewaan tinggi)</th>\n",
              "      <td>183</td>\n",
              "    </tr>\n",
              "    <tr>\n",
              "      <th>Monetary (Total penyewaan sepeda)</th>\n",
              "      <td>3292679</td>\n",
              "    </tr>\n",
              "  </tbody>\n",
              "</table>\n",
              "</div>"
            ],
            "text/plain": [
              "                                                   Value\n",
              "Recency (Hari sejak penyewaan tinggi terakhir)        27\n",
              "Frequency (Jumlah hari dengan penyewaan tinggi)      183\n",
              "Monetary (Total penyewaan sepeda)                3292679"
            ]
          },
          "execution_count": 30,
          "metadata": {},
          "output_type": "execute_result"
        }
      ],
      "source": [
        "rfm_results = {\n",
        "    \"Recency (Hari sejak penyewaan tinggi terakhir)\": recency,\n",
        "    \"Frequency (Jumlah hari dengan penyewaan tinggi)\": frequency,\n",
        "    \"Monetary (Total penyewaan sepeda)\": monetary\n",
        "}\n",
        "# membuat dataframe dari hasil rfm\n",
        "rfm_df = pd.DataFrame.from_dict(rfm_results, orient=\"index\", columns=[\"Value\"])\n",
        "rfm_df"
      ]
    },
    {
      "cell_type": "markdown",
      "metadata": {},
      "source": [
        "Berdasarkan analisis RFM yang dilakukan terhadap data penyewaan sepeda, ditemukan bahwa dalam periode dataset terdapat **183 hari** dengan tingkat penyewaan yang tinggi, menunjukkan bahwa permintaan sepeda cukup sering mengalami lonjakan. Namun, **sudah 27 hari sejak terakhir kali terjadi lonjakan penyewaan**, yang dapat mengindikasikan adanya faktor musiman atau tren menurun dalam permintaan sepeda. Selain itu, secara keseluruhan, total penyewaan sepeda mencapai **3,29 juta kali**, yang mencerminkan tingginya penggunaan layanan ini sepanjang periode yang diamati. Kesimpulan ini menunjukkan bahwa meskipun permintaan sepeda cukup stabil, ada potensi untuk menganalisis lebih lanjut faktor-faktor yang memengaruhi perubahan tren, seperti musim, cuaca, atau perbedaan antara hari kerja dan akhir pekan."
      ]
    },
    {
      "cell_type": "markdown",
      "metadata": {
        "id": "_WeHlCeX8DC2"
      },
      "source": [
        "## Conclusion"
      ]
    },
    {
      "cell_type": "markdown",
      "metadata": {
        "id": "ZTcyR48Y8DC2"
      },
      "source": [
        "- **Conclution pertanyaan 1:**\n",
        "Berdasarkan analisis pola penggunaan sepeda berdasarkan hari kerja dan akhir pekan, ditemukan bahwa rata-rata penyewaan sepeda lebih tinggi pada hari kerja dibandingkan akhir pekan, terutama pada **Selasa hingga Jumat**. Hal ini menunjukkan bahwa sepeda lebih banyak digunakan sebagai **sarana transportasi rutin**, seperti untuk pergi bekerja atau sekolah. Tren ini mengindikasikan bahwa layanan penyewaan sepeda memiliki peran penting dalam mendukung mobilitas harian masyarakat, terutama di kawasan perkotaan. Sebaliknya, pada akhir pekan, permintaan cenderung lebih rendah, kemungkinan karena penggunaan sepeda lebih bersifat rekreasional daripada fungsional. Kesimpulan ini dapat menjadi dasar bagi pengelola layanan penyewaan sepeda untuk mengoptimalkan ketersediaan sepeda pada hari-hari dengan permintaan tinggi serta mempertimbangkan strategi untuk meningkatkan penggunaan sepeda di akhir pekan.\n",
        "\n",
        "- **Conclution pertanyaan 2:**\n",
        "Berdasarkan analisis pengaruh **musim dan cuaca** terhadap jumlah penyewaan sepeda, ditemukan bahwa **musim panas** memiliki tingkat penyewaan tertinggi, diikuti oleh musim gugur, sementara **musim dingin memiliki tingkat penyewaan terendah**. Hal ini kemungkinan disebabkan oleh suhu yang lebih dingin dan kondisi jalan yang kurang mendukung, sehingga mengurangi mobilitas masyarakat dengan sepeda.  \n",
        "Dari sisi **kondisi cuaca**, penyewaan sepeda tertinggi terjadi saat **cuaca cerah**, kemudian menurun saat **cuaca berawan dan hujan**, dan hampir tidak ada penyewaan saat **cuaca ekstrem**, yang kemungkinan besar disebabkan oleh faktor keselamatan dan kenyamanan pengguna.  \n",
        "Selain itu, hasil analisis korelasi menunjukkan bahwa terdapat **hubungan positif antara suhu dan jumlah penyewaan sepeda**, di mana semakin tinggi suhu, semakin banyak penyewaan sepeda yang terjadi. Dengan demikian, dapat disimpulkan bahwa **aktivitas penyewaan sepeda cenderung tinggi pada cuaca cerah, suhu yang lebih hangat, serta terutama pada musim panas**, sementara kondisi cuaca ekstrem dan suhu rendah mengurangi permintaan secara signifikan. Temuan ini dapat menjadi dasar bagi pengelola layanan sepeda untuk menyesuaikan strategi operasional, seperti penyediaan sepeda yang lebih banyak di musim panas dan promosi penggunaan sepeda di musim dingin dengan fasilitas pendukung yang lebih baik.\n",
        "\n",
        "- **Conclution pertanyaan 3:**\n",
        "Berdasarkan analisis pola permintaan sepeda dalam sehari, ditemukan bahwa terdapat **jam-jam sibuk dan jam-jam sepi** dalam penyewaan sepeda. Permintaan sepeda mengalami peningkatan signifikan pada **pagi hari dan sore hari**, yang kemungkinan besar berkaitan dengan jam kerja dan mobilitas masyarakat untuk pergi serta pulang dari tempat kerja atau sekolah.  \n",
        "Puncak permintaan terjadi pada **pukul 17:00 (5 sore)**, yang bertepatan dengan waktu pulang kerja, sementara permintaan terendah terjadi pada **pukul 04:00 pagi**, saat sebagian besar orang masih tidur dan mobilitas masih sangat rendah.  \n",
        "Temuan ini menunjukkan bahwa sepeda banyak digunakan sebagai **moda transportasi harian**, terutama pada jam sibuk. Informasi ini dapat dimanfaatkan oleh pengelola layanan penyewaan sepeda untuk memastikan ketersediaan sepeda di jam-jam dengan permintaan tinggi serta mempertimbangkan strategi optimalisasi penyebaran sepeda agar dapat mengakomodasi kebutuhan pengguna dengan lebih efisien.\n",
        "\n",
        "- **Conclution Analisis RFM:**\n",
        "Berdasarkan analisis **RFM** terhadap data penyewaan sepeda, ditemukan bahwa permintaan sepeda mengalami lonjakan cukup sering, dengan **183 hari** dalam dataset yang memiliki tingkat penyewaan tinggi. Namun, **sudah 27 hari sejak terakhir kali terjadi lonjakan permintaan**, yang dapat mengindikasikan adanya faktor musiman atau tren penurunan dalam penggunaan sepeda. Secara keseluruhan, layanan penyewaan sepeda telah digunakan sebanyak **3,29 juta kali**, yang menunjukkan bahwa sepeda merupakan moda transportasi yang cukup populer dan banyak digunakan.  \n",
        "Meskipun permintaan sepeda tergolong stabil, ada peluang untuk mengeksplorasi lebih lanjut faktor-faktor yang memengaruhi fluktuasi penyewaan, seperti **musim, cuaca, atau perbedaan pola penggunaan antara hari kerja dan akhir pekan**. Pemahaman lebih dalam mengenai tren ini dapat membantu dalam pengelolaan armada sepeda dan pengembangan strategi untuk meningkatkan jumlah penyewaan di periode dengan permintaan lebih rendah."
      ]
    },
    {
      "cell_type": "code",
      "execution_count": 32,
      "metadata": {},
      "outputs": [],
      "source": [
        "day_df.to_csv(\"day_df_final.csv\", index=False)\n",
        "hour_df.to_csv(\"hour_df_final.csv\", index=False)"
      ]
    }
  ],
  "metadata": {
    "colab": {
      "provenance": []
    },
    "kernelspec": {
      "display_name": "bike_sharing_analysis",
      "language": "python",
      "name": "python3"
    },
    "language_info": {
      "codemirror_mode": {
        "name": "ipython",
        "version": 3
      },
      "file_extension": ".py",
      "mimetype": "text/x-python",
      "name": "python",
      "nbconvert_exporter": "python",
      "pygments_lexer": "ipython3",
      "version": "3.13.2"
    },
    "orig_nbformat": 4
  },
  "nbformat": 4,
  "nbformat_minor": 0
}
